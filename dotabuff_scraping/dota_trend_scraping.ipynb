{
  "nbformat": 4,
  "nbformat_minor": 0,
  "metadata": {
    "colab": {
      "provenance": []
    },
    "kernelspec": {
      "name": "python3",
      "display_name": "Python 3"
    },
    "language_info": {
      "name": "python"
    }
  },
  "cells": [
    {
      "cell_type": "code",
      "source": [
        "import pandas as pd\n",
        "from io import StringIO\n",
        "from bs4 import BeautifulSoup as bs\n",
        "import requests\n",
        "from google.colab import files\n",
        "import warnings\n",
        "warnings.filterwarnings('ignore')"
      ],
      "metadata": {
        "id": "7lcU1HABCsOe"
      },
      "execution_count": null,
      "outputs": []
    },
    {
      "cell_type": "code",
      "source": [
        "url = \"https://www.dotabuff.com/heroes/trends\"\n",
        "headers = {\n",
        "    \"User-Agent\": \"Mozilla/5.0 (Windows NT 10.0; Win64; x64) AppleWebKit/537.36 (KHTML, like Gecko) Chrome/119.0.0.0 Safari/537.36\"\n",
        "}\n",
        "\n",
        "df = pd.read_html(StringIO(requests.get(url, headers=headers).text))[0]\n",
        "df = (\n",
        "    df.droplevel(0, axis=1)\n",
        "    .drop([\"Trend\"], axis=1, level=1)\n",
        "    .set_index((\"Unnamed: 0_level_1\", \"Hero\"))\n",
        "    .rename_axis(index=None)\n",
        ")\n",
        "\n",
        "print(df.head(10))"
      ],
      "metadata": {
        "colab": {
          "base_uri": "https://localhost:8080/"
        },
        "id": "R99j1eaWNNuN",
        "outputId": "8cc55b7d-14a5-43ba-85d3-caadcf48e435"
      },
      "execution_count": null,
      "outputs": [
        {
          "output_type": "stream",
          "name": "stdout",
          "text": [
            "             Win Rate                 Pick Rate                \n",
            "                Start Current  Change     Start Current  Change\n",
            "Dark Seer      52.24%  53.80%  +1.56%     1.95%   2.00%  +0.06%\n",
            "Sven           46.62%  48.10%  +1.48%     4.03%   3.97%  -0.07%\n",
            "Lycan          46.95%  48.23%  +1.28%     1.02%   0.96%  -0.05%\n",
            "Shadow Demon   46.05%  47.29%  +1.24%     2.07%   2.21%  +0.15%\n",
            "Ember Spirit   49.43%  50.36%  +0.93%     6.05%   6.84%  +0.79%\n",
            "Chen           47.28%  48.18%  +0.89%     1.00%   0.95%  -0.05%\n",
            "Phoenix        49.05%  49.89%  +0.84%     3.87%   3.81%  -0.06%\n",
            "Techies        49.14%  49.96%  +0.82%     6.19%   6.36%  +0.17%\n",
            "Tidehunter     48.75%  49.56%  +0.81%     4.53%   4.56%     NaN\n",
            "Mars           46.18%  46.91%  +0.73%     5.41%   5.14%  -0.27%\n"
          ]
        }
      ]
    },
    {
      "cell_type": "code",
      "source": [
        "#Save to csv excel file\n",
        "\n",
        "df.to_csv(\"trend_dota_heroes.csv\", encoding = \"utf-8-sig\", sep=\";\")\n",
        "files.download(\"trend_dota_heroes.csv\")"
      ],
      "metadata": {
        "colab": {
          "base_uri": "https://localhost:8080/",
          "height": 17
        },
        "id": "cI6wj4TtkbWB",
        "outputId": "e701ee72-166f-441f-c914-60df5cbc5880"
      },
      "execution_count": null,
      "outputs": [
        {
          "output_type": "display_data",
          "data": {
            "text/plain": [
              "<IPython.core.display.Javascript object>"
            ],
            "application/javascript": [
              "\n",
              "    async function download(id, filename, size) {\n",
              "      if (!google.colab.kernel.accessAllowed) {\n",
              "        return;\n",
              "      }\n",
              "      const div = document.createElement('div');\n",
              "      const label = document.createElement('label');\n",
              "      label.textContent = `Downloading \"${filename}\": `;\n",
              "      div.appendChild(label);\n",
              "      const progress = document.createElement('progress');\n",
              "      progress.max = size;\n",
              "      div.appendChild(progress);\n",
              "      document.body.appendChild(div);\n",
              "\n",
              "      const buffers = [];\n",
              "      let downloaded = 0;\n",
              "\n",
              "      const channel = await google.colab.kernel.comms.open(id);\n",
              "      // Send a message to notify the kernel that we're ready.\n",
              "      channel.send({})\n",
              "\n",
              "      for await (const message of channel.messages) {\n",
              "        // Send a message to notify the kernel that we're ready.\n",
              "        channel.send({})\n",
              "        if (message.buffers) {\n",
              "          for (const buffer of message.buffers) {\n",
              "            buffers.push(buffer);\n",
              "            downloaded += buffer.byteLength;\n",
              "            progress.value = downloaded;\n",
              "          }\n",
              "        }\n",
              "      }\n",
              "      const blob = new Blob(buffers, {type: 'application/binary'});\n",
              "      const a = document.createElement('a');\n",
              "      a.href = window.URL.createObjectURL(blob);\n",
              "      a.download = filename;\n",
              "      div.appendChild(a);\n",
              "      a.click();\n",
              "      div.remove();\n",
              "    }\n",
              "  "
            ]
          },
          "metadata": {}
        },
        {
          "output_type": "display_data",
          "data": {
            "text/plain": [
              "<IPython.core.display.Javascript object>"
            ],
            "application/javascript": [
              "download(\"download_494fdc01-1227-4abb-ac15-8ce511070876\", \"trend_dota_heroes.csv\", 6187)"
            ]
          },
          "metadata": {}
        }
      ]
    }
  ]
}